{
 "cells": [
  {
   "cell_type": "markdown",
   "id": "719f2fda-fda9-4245-a073-232ede2b66c1",
   "metadata": {},
   "source": [
    "## Python distingue entre mayusculas y minusculas"
   ]
  },
  {
   "cell_type": "code",
   "execution_count": 11,
   "id": "ccde62fd-d64f-4a41-b9f0-801ef2d0e4f8",
   "metadata": {},
   "outputs": [
    {
     "name": "stdout",
     "output_type": "stream",
     "text": [
      "El curso es: Backen Python\n"
     ]
    }
   ],
   "source": [
    "A = \"Backen Python\" \n",
    "print(\"El curso es:\",A)"
   ]
  },
  {
   "cell_type": "markdown",
   "id": "f2d8eb5e-2a6e-4a9a-8cee-21d9547d9908",
   "metadata": {},
   "source": [
    "## Palabras reservadas en Python\n"
   ]
  },
  {
   "cell_type": "code",
   "execution_count": 22,
   "id": "5bb61afd-1e29-4dba-aba0-210ef0e8197f",
   "metadata": {},
   "outputs": [
    {
     "name": "stdout",
     "output_type": "stream",
     "text": [
      "\n",
      "Here is a list of the Python keywords.  Enter any keyword to get more help.\n",
      "\n",
      "False               class               from                or\n",
      "None                continue            global              pass\n",
      "True                def                 if                  raise\n",
      "and                 del                 import              return\n",
      "as                  elif                in                  try\n",
      "assert              else                is                  while\n",
      "async               except              lambda              with\n",
      "await               finally             nonlocal            yield\n",
      "break               for                 not                 \n",
      "\n"
     ]
    }
   ],
   "source": [
    "\n",
    "help(\"keywords\")"
   ]
  },
  {
   "cell_type": "markdown",
   "id": "6cd78bb9-7abb-43cb-a53b-91db5b4e2442",
   "metadata": {},
   "source": [
    "## caracteres de escape en Python"
   ]
  },
  {
   "cell_type": "code",
   "execution_count": 26,
   "id": "e54d0b52-9310-4c03-90e4-aebcf3756a01",
   "metadata": {},
   "outputs": [
    {
     "data": {
      "text/plain": [
       "\"'\""
      ]
     },
     "execution_count": 26,
     "metadata": {},
     "output_type": "execute_result"
    }
   ],
   "source": [
    "\"\\'\" #single quote / comilla sencilla "
   ]
  },
  {
   "cell_type": "code",
   "execution_count": 28,
   "id": "a1e42da3-0518-4e17-9d1f-67b5183060f6",
   "metadata": {},
   "outputs": [
    {
     "data": {
      "text/plain": [
       "'\\n'"
      ]
     },
     "execution_count": 28,
     "metadata": {},
     "output_type": "execute_result"
    }
   ],
   "source": [
    "\"\\n\" # Salto de linea"
   ]
  },
  {
   "cell_type": "code",
   "execution_count": 30,
   "id": "1bea0c9f-b5bd-4e63-9c42-43c9d87aefc5",
   "metadata": {},
   "outputs": [
    {
     "name": "stdout",
     "output_type": "stream",
     "text": [
      "Barkend Python\n",
      "en EBAC\n"
     ]
    }
   ],
   "source": [
    "my_course = \"Barkend Python\\nen EBAC\"\n",
    "print(my_course)\n"
   ]
  },
  {
   "cell_type": "code",
   "execution_count": 32,
   "id": "e3cb7996-e47b-458e-9420-61a9852e3f53",
   "metadata": {},
   "outputs": [
    {
     "name": "stdout",
     "output_type": "stream",
     "text": [
      "Barkend Python\ten EBAC\n"
     ]
    }
   ],
   "source": [
    "my_course = \"Barkend Python\\ten EBAC\"  #Tap Espacio mas grande\n",
    "print(my_course)"
   ]
  },
  {
   "cell_type": "code",
   "execution_count": 34,
   "id": "9e75aa28-d324-4fa9-9ec1-51f3406594b6",
   "metadata": {},
   "outputs": [
    {
     "data": {
      "text/plain": [
       "'\\r'"
      ]
     },
     "execution_count": 34,
     "metadata": {},
     "output_type": "execute_result"
    }
   ],
   "source": [
    "\"\\r\" #retorno de carro, ignora lo que hay antes de la r"
   ]
  },
  {
   "cell_type": "code",
   "execution_count": 36,
   "id": "655277de-6f12-4f06-a8d5-e5c5eaa4478b",
   "metadata": {},
   "outputs": [
    {
     "name": "stdout",
     "output_type": "stream",
     "text": [
      "En EBAC Python\n"
     ]
    }
   ],
   "source": [
    "my_course = \"Barkend Python\\rEn EBAC\"\n",
    "print(my_course)"
   ]
  },
  {
   "cell_type": "code",
   "execution_count": 38,
   "id": "246fb5c1-9f7c-427b-b923-ed4eb200cee0",
   "metadata": {},
   "outputs": [
    {
     "data": {
      "text/plain": [
       "'\\x08'"
      ]
     },
     "execution_count": 38,
     "metadata": {},
     "output_type": "execute_result"
    }
   ],
   "source": [
    "\"\\b\" #Elimina el caracter previo "
   ]
  },
  {
   "cell_type": "code",
   "execution_count": 40,
   "id": "1b9f73f7-aa43-4704-9e8d-cedbf30d8151",
   "metadata": {},
   "outputs": [
    {
     "name": "stdout",
     "output_type": "stream",
     "text": [
      "Barkend Pythoen EBAC\n"
     ]
    }
   ],
   "source": [
    "my_course = \"Barkend Python\\ben EBAC\"\n",
    "print(my_course)"
   ]
  },
  {
   "cell_type": "code",
   "execution_count": 5,
   "id": "e6e75e01-7aa9-4702-9316-883b7be04f16",
   "metadata": {},
   "outputs": [
    {
     "name": "stdin",
     "output_type": "stream",
     "text": [
      "Igresa los tres valores:  7 10 20\n"
     ]
    },
    {
     "name": "stdout",
     "output_type": "stream",
     "text": [
      "El valor de a es:  7\n",
      "El valor de b es:  10\n",
      "El valor de c es:  20\n"
     ]
    }
   ],
   "source": [
    "a,b,c = input(\"Igresa los tres valores: \").split()\n",
    "print(\"El valor de a es: \",a)\n",
    "print(\"El valor de b es: \",b)\n",
    "print(\"El valor de c es: \",c)"
   ]
  },
  {
   "cell_type": "code",
   "execution_count": 11,
   "id": "80aa67db-6896-43dc-8f01-2998a31c07cc",
   "metadata": {},
   "outputs": [
    {
     "name": "stdin",
     "output_type": "stream",
     "text": [
      "Ingrese el valor de my_number:  8\n"
     ]
    },
    {
     "name": "stdout",
     "output_type": "stream",
     "text": [
      "El valor de my_number es:  8\n"
     ]
    }
   ],
   "source": [
    "my_number =input(\"Ingrese el valor de my_number: \")\n",
    "print(\"El valor de my_number es: \", my_number)"
   ]
  },
  {
   "cell_type": "code",
   "execution_count": 13,
   "id": "772c7395-08ed-4fb6-8b3a-5ba6c4c66639",
   "metadata": {},
   "outputs": [
    {
     "name": "stdout",
     "output_type": "stream",
     "text": [
      "20\n",
      "140724780805144\n"
     ]
    }
   ],
   "source": [
    "x = 20\n",
    "print(x)\n",
    "print(id(x))\n"
   ]
  },
  {
   "cell_type": "code",
   "execution_count": 17,
   "id": "a8e8a7cd-09e1-4874-9559-9ccf4e291a99",
   "metadata": {},
   "outputs": [
    {
     "name": "stdout",
     "output_type": "stream",
     "text": [
      "1,7,9,10\n",
      "<class 'str'>\n"
     ]
    }
   ],
   "source": [
    "cadena = \"1,7,9,10\"\n",
    "print(cadena)\n",
    "print(type(cadena))"
   ]
  },
  {
   "cell_type": "code",
   "execution_count": null,
   "id": "c189334c-d5bf-45a3-9146-68b42e8592ad",
   "metadata": {},
   "outputs": [],
   "source": []
  }
 ],
 "metadata": {
  "kernelspec": {
   "display_name": "Python 3 (ipykernel)",
   "language": "python",
   "name": "python3"
  },
  "language_info": {
   "codemirror_mode": {
    "name": "ipython",
    "version": 3
   },
   "file_extension": ".py",
   "mimetype": "text/x-python",
   "name": "python",
   "nbconvert_exporter": "python",
   "pygments_lexer": "ipython3",
   "version": "3.12.7"
  }
 },
 "nbformat": 4,
 "nbformat_minor": 5
}
